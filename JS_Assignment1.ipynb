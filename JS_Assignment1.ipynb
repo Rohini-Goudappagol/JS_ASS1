{
  "nbformat": 4,
  "nbformat_minor": 0,
  "metadata": {
    "colab": {
      "provenance": []
    },
    "kernelspec": {
      "name": "python3",
      "display_name": "Python 3"
    },
    "language_info": {
      "name": "python"
    }
  },
  "cells": [
    {
      "cell_type": "markdown",
      "source": [
        "1. What are conditional statements? Explain conditional statements with syntax and examples\n",
        "  -  Evaluated to be either true or false using boolean values.\n",
        "  1. if Statement\n",
        "      Basic Form: Executes code block if condition is true.\n",
        "      Syntax Example: if (condition) { // code block }\n",
        "  2. if-else Statement\n",
        "      Description: Executes code block if condition is true, otherwise executes an alternative code block.\n",
        "      Syntax Example: if (condition) { // code block } else { // alternative code block }\n",
        "  3. Nested if Statement\n",
        "      Description: if-else statements within another if-else statement.\n",
        "      Syntax Example: if (condition1) { if (condition2) { // code block } }\n",
        "  4. if else if Ladder\n",
        "      Description: Allows chaining multiple conditions together.\n",
        "      Syntax Example: if (condition1) { // code block } else if (condition2) { // code block }"
      ],
      "metadata": {
        "id": "Yo4XnvsvMrQ_"
      }
    },
    {
      "cell_type": "markdown",
      "source": [
        "2.  Write a program that grades students based on their marks^\n",
        " If greater than 90 then A GradE\n",
        " If between 70 and 90 then a B gradE\n",
        " If between 50 and 70 then a C gradE\n",
        " Below 50 then an F grade\n",
        "\n",
        "    - let a = 40;\n",
        "\n",
        "if (a >= 90){\n",
        "    console.log(\"A Grade\");\n",
        "}\n",
        "else if ( a >= 70  && a <= 90){\n",
        "    console.log(\"B Grade\");\n",
        "}\n",
        "else if ( a >=50 && a <= 70){\n",
        "    console.log(\"C Grade\");\n",
        "}\n",
        "else\n",
        "console.log(\"F Grade\");"
      ],
      "metadata": {
        "id": "0mXC7wu3H7w3"
      }
    },
    {
      "cell_type": "markdown",
      "source": [
        "3.  What are loops, and what do we need them? Explain different types of loops with their syntax and examples.\n",
        "\n",
        "    - To perform repetation of tasks we need loops\n",
        "\n",
        "    1. For loop : we use for loop to run a piece of code until the set of conditions turns false\n",
        "     syntax:\n",
        "     for(initial expression ; condition ; update expression ){\n",
        "      // loop body\n",
        "     }\n",
        "    2. while loop : This loop keeps on running untill the condition is true\n",
        "      syntax:\n",
        "      while(condition){\n",
        "        //loop body\n",
        "      }\n",
        "    3. Do-while Loop : Do while is similar to while loop with one difference that the 1st iteration runs always, and later iterations run after the condition evaluates to true.\n",
        "      syntax:\n",
        "      do{\n",
        "        //loop body\n",
        "      }\n",
        "      while(condition)"
      ],
      "metadata": {
        "id": "UYKSkhoOIG59"
      }
    },
    {
      "cell_type": "markdown",
      "source": [
        "4.  Generate numbers between any 2 given numbers.\n",
        "\n",
        "Ex:\n",
        ". const num1 = 10;\n",
        ". const num2 = 25;\n",
        "\n",
        "Output: 11, 12, 13, …., 25\n",
        "\n",
        "    - let num1 = 10;\n",
        "let num2 = 25;\n",
        "for( let i = num1+1 ; i <= num2; i++ ){\n",
        "    console.log( i);\n",
        "}"
      ],
      "metadata": {
        "id": "AuYDv793INzi"
      }
    },
    {
      "cell_type": "markdown",
      "source": [
        "5.  Use the while loop to print numbers from 1 to 25 in ascending and descending order.\n",
        "\n",
        "  - // Ascending order\n",
        "\n",
        "let a = 1;\n",
        " while ( a <= 25){\n",
        "    console.log(a);\n",
        "    a++;\n",
        " }\n",
        "\n",
        " //Descending order\n",
        "\n",
        "let b = 25;\n",
        "while ( b <=25 && b >= 1){\n",
        "    console.log(b);\n",
        "    b--;\n",
        "}\n"
      ],
      "metadata": {
        "id": "KBJfgP7HIUhh"
      }
    }
  ]
}